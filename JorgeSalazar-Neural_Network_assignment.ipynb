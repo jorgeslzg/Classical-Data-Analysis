{
  "nbformat": 4,
  "nbformat_minor": 0,
  "metadata": {
    "kernelspec": {
      "display_name": "Python 3",
      "language": "python",
      "name": "python3"
    },
    "language_info": {
      "codemirror_mode": {
        "name": "ipython",
        "version": 3
      },
      "file_extension": ".py",
      "mimetype": "text/x-python",
      "name": "python",
      "nbconvert_exporter": "python",
      "pygments_lexer": "ipython3",
      "version": "3.7.4"
    },
    "colab": {
      "name": "Neural_Network_assignment.ipynb",
      "provenance": []
    }
  },
  "cells": [
    {
      "cell_type": "markdown",
      "metadata": {
        "id": "VCRtaVJPEffA",
        "colab_type": "text"
      },
      "source": [
        "# Neural Network Assignment"
      ]
    },
    {
      "cell_type": "markdown",
      "metadata": {
        "id": "M2no6IbLEffC",
        "colab_type": "text"
      },
      "source": [
        "Handwritten digit recognition has gained so much popularity. We want to implment a Neural Network to classify the images of handwritten digits as 10 digits (0–9). We will use the ```digits dataset``` available in sklearn.\n",
        "\n",
        "**Please always explain and justify every choice you make, comment your code, describe the plots and results you obtain.**"
      ]
    },
    {
      "cell_type": "markdown",
      "metadata": {
        "id": "cD4EsaFCEffF",
        "colab_type": "text"
      },
      "source": [
        "#### Import libraries"
      ]
    },
    {
      "cell_type": "code",
      "metadata": {
        "id": "hC_6kTazEffI",
        "colab_type": "code",
        "colab": {}
      },
      "source": [
        "import numpy as np\n",
        "from sklearn import datasets\n",
        "import matplotlib.pyplot as plt\n",
        "%matplotlib inline\n"
      ],
      "execution_count": 0,
      "outputs": []
    },
    {
      "cell_type": "markdown",
      "metadata": {
        "id": "A_WzedqmEffS",
        "colab_type": "text"
      },
      "source": [
        "#### Import dataset"
      ]
    },
    {
      "cell_type": "code",
      "metadata": {
        "id": "KQ4-0hUQEffV",
        "colab_type": "code",
        "colab": {}
      },
      "source": [
        "digits = datasets.load_digits()"
      ],
      "execution_count": 0,
      "outputs": []
    },
    {
      "cell_type": "code",
      "metadata": {
        "id": "7gd7RQ4sEffb",
        "colab_type": "code",
        "colab": {
          "base_uri": "https://localhost:8080/",
          "height": 34
        },
        "outputId": "ec6695d0-803e-4ba0-84c7-495ffbb7cc8a"
      },
      "source": [
        "digits.keys()"
      ],
      "execution_count": 3,
      "outputs": [
        {
          "output_type": "execute_result",
          "data": {
            "text/plain": [
              "dict_keys(['data', 'target', 'target_names', 'images', 'DESCR'])"
            ]
          },
          "metadata": {
            "tags": []
          },
          "execution_count": 3
        }
      ]
    },
    {
      "cell_type": "markdown",
      "metadata": {
        "id": "aeIk3cLZEffg",
        "colab_type": "text"
      },
      "source": [
        "We will be using ```digits.images``` and ```digits.target```"
      ]
    },
    {
      "cell_type": "code",
      "metadata": {
        "id": "T-04PPOfEffi",
        "colab_type": "code",
        "colab": {
          "base_uri": "https://localhost:8080/",
          "height": 34
        },
        "outputId": "9fbb6a8c-97db-4fff-f13f-10073cd6e804"
      },
      "source": [
        "digits.images.shape"
      ],
      "execution_count": 4,
      "outputs": [
        {
          "output_type": "execute_result",
          "data": {
            "text/plain": [
              "(1797, 8, 8)"
            ]
          },
          "metadata": {
            "tags": []
          },
          "execution_count": 4
        }
      ]
    },
    {
      "cell_type": "markdown",
      "metadata": {
        "id": "cbrnlwC2Effm",
        "colab_type": "text"
      },
      "source": [
        "```digits.image``` is an array with 3 dimensions. The first dimension indexes images, and we see that we have 1797 images in total. The next two dimensions correspond to the size in pixels of each image. Each image has 8x8 = 64 pixels. "
      ]
    },
    {
      "cell_type": "markdown",
      "metadata": {
        "id": "YfS4BHkHEffm",
        "colab_type": "text"
      },
      "source": [
        "Let's look at the data of the first 8x8 image. Each slot in the array corresponds to a pixel, and the value in the slot is the amount of black (intensity) in the pixel"
      ]
    },
    {
      "cell_type": "code",
      "metadata": {
        "id": "36dD7uf8Effn",
        "colab_type": "code",
        "colab": {
          "base_uri": "https://localhost:8080/",
          "height": 153
        },
        "outputId": "82eee3a8-a162-4f45-9420-f351332bccc6"
      },
      "source": [
        "digits.images[0]"
      ],
      "execution_count": 5,
      "outputs": [
        {
          "output_type": "execute_result",
          "data": {
            "text/plain": [
              "array([[ 0.,  0.,  5., 13.,  9.,  1.,  0.,  0.],\n",
              "       [ 0.,  0., 13., 15., 10., 15.,  5.,  0.],\n",
              "       [ 0.,  3., 15.,  2.,  0., 11.,  8.,  0.],\n",
              "       [ 0.,  4., 12.,  0.,  0.,  8.,  8.,  0.],\n",
              "       [ 0.,  5.,  8.,  0.,  0.,  9.,  8.,  0.],\n",
              "       [ 0.,  4., 11.,  0.,  1., 12.,  7.,  0.],\n",
              "       [ 0.,  2., 14.,  5., 10., 12.,  0.,  0.],\n",
              "       [ 0.,  0.,  6., 13., 10.,  0.,  0.,  0.]])"
            ]
          },
          "metadata": {
            "tags": []
          },
          "execution_count": 5
        }
      ]
    },
    {
      "cell_type": "markdown",
      "metadata": {
        "id": "KRahL0lDEffq",
        "colab_type": "text"
      },
      "source": [
        "Now let's display this image"
      ]
    },
    {
      "cell_type": "code",
      "metadata": {
        "id": "Uu2fX9eKEffr",
        "colab_type": "code",
        "colab": {
          "base_uri": "https://localhost:8080/",
          "height": 265
        },
        "outputId": "23296dd3-4460-4934-d876-e7f40ae57baf"
      },
      "source": [
        "plt.imshow(digits.images[0],cmap='binary')\n",
        "plt.show()"
      ],
      "execution_count": 6,
      "outputs": [
        {
          "output_type": "display_data",
          "data": {
            "image/png": "[encoded data removed]",
            "text/plain": [
              "<Figure size 432x288 with 1 Axes>"
            ]
          },
          "metadata": {
            "tags": []
          }
        }
      ]
    },
    {
      "cell_type": "markdown",
      "metadata": {
        "id": "g286vxOqEffu",
        "colab_type": "text"
      },
      "source": [
        "Originally the image is low resolution. The original digits were of much higher resolution, and the resolution has been decreased when creating the dataset for scikit-learn to make it easier and faster to train a machine learning algorithm to recognize these digits."
      ]
    },
    {
      "cell_type": "code",
      "metadata": {
        "id": "dg8fFow1Effv",
        "colab_type": "code",
        "colab": {
          "base_uri": "https://localhost:8080/",
          "height": 51
        },
        "outputId": "a35877f6-0915-4ef3-f552-51a867451ea5"
      },
      "source": [
        "print(digits.target.shape)\n",
        "print(digits.target)"
      ],
      "execution_count": 7,
      "outputs": [
        {
          "output_type": "stream",
          "text": [
            "(1797,)\n",
            "[0 1 2 ... 8 9 8]\n"
          ],
          "name": "stdout"
        }
      ]
    },
    {
      "cell_type": "markdown",
      "metadata": {
        "id": "0Kn_0z7pEffx",
        "colab_type": "text"
      },
      "source": [
        "It is a 1-dimensional array with 1797 slots. Looking into the array, we see that it contains the true numbers corresponding to each image. For example, the first target is 0, and corresponds to the image drawn just above."
      ]
    },
    {
      "cell_type": "markdown",
      "metadata": {
        "id": "tYAi-wATEffx",
        "colab_type": "text"
      },
      "source": [
        "**Write a function that plot 16 digits of the dataset, starting with the digit in a specific position that will be specified as parameter of the function**"
      ]
    },
    {
      "cell_type": "code",
      "metadata": {
        "id": "5r5lPnKtEffy",
        "colab_type": "code",
        "colab": {}
      },
      "source": [
        "def plot_multi(i):\n",
        "    plots = 16\n",
        "    fig = plt.figure(figsize=(12,12))\n",
        "    for j in range(plots):\n",
        "        plt.subplot(4,4,j+1)\n",
        "        plt.imshow(digits.images[i+j], cmap='binary')\n",
        "        plt.title(digits.target[i+j])\n",
        "        plt.axis('off')\n",
        "    plt.show()\n",
        "    \n",
        "    \n",
        "    "
      ],
      "execution_count": 0,
      "outputs": []
    },
    {
      "cell_type": "code",
      "metadata": {
        "id": "FStLbG1ZF9qY",
        "colab_type": "code",
        "colab": {
          "base_uri": "https://localhost:8080/",
          "height": 699
        },
        "outputId": "a436549e-e25b-48c9-ca67-4b5853652c76"
      },
      "source": [
        "plot_multi(10)"
      ],
      "execution_count": 9,
      "outputs": [
        {
          "output_type": "display_data",
          "data": {
            "image/png": "[encoded data removed]",
            "text/plain": [
              "<Figure size 864x864 with 16 Axes>"
            ]
          },
          "metadata": {
            "tags": []
          }
        }
      ]
    },
    {
      "cell_type": "markdown",
      "metadata": {
        "id": "WPVPuPiVEff2",
        "colab_type": "text"
      },
      "source": [
        "### Building the network and preparing the input data"
      ]
    },
    {
      "cell_type": "markdown",
      "metadata": {
        "id": "DL0AYdWbEff2",
        "colab_type": "text"
      },
      "source": [
        "The input layer requires a 1-dimensional array in input, but our images are 2D. So we need to flatten all images. Use the [```reshape```](https://docs.scipy.org/doc/numpy/reference/generated/numpy.reshape.html) function of python"
      ]
    },
    {
      "cell_type": "code",
      "metadata": {
        "id": "XJo0rpy8Eff3",
        "colab_type": "code",
        "colab": {
          "base_uri": "https://localhost:8080/",
          "height": 34
        },
        "outputId": "408e8206-9927-4b3b-dd9a-68be6ff967e6"
      },
      "source": [
        "y = digits.target\n",
        "\n",
        "#One shape dimension can be -1. \n",
        "#In this case, the value is inferred from the length of the array and remaining dimensions.\n",
        "\n",
        "x = digits.images.reshape((len(digits.images), -1))\n",
        "x.shape"
      ],
      "execution_count": 10,
      "outputs": [
        {
          "output_type": "execute_result",
          "data": {
            "text/plain": [
              "(1797, 64)"
            ]
          },
          "metadata": {
            "tags": []
          },
          "execution_count": 10
        }
      ]
    },
    {
      "cell_type": "markdown",
      "metadata": {
        "id": "HgLOMbUYEff5",
        "colab_type": "text"
      },
      "source": [
        "We now have $1797$ flattened images. The two dimensions of our 8x8 images have been collapsed into a single dimension.\n",
        "\n",
        "Generate the training and test set. Use random_state=0 and test_size 20%"
      ]
    },
    {
      "cell_type": "code",
      "metadata": {
        "id": "afcY29bQEff6",
        "colab_type": "code",
        "colab": {
          "base_uri": "https://localhost:8080/",
          "height": 85
        },
        "outputId": "d71c45d7-2841-4110-c030-886c2ed0a209"
      },
      "source": [
        "from sklearn.model_selection import train_test_split\n",
        "X_train, X_test, y_train, y_test = train_test_split(x, y, test_size=0.20, random_state=0)\n",
        "\n",
        "print(X_train.shape)\n",
        "print(X_test.shape)\n",
        "print(y_train.shape)\n",
        "print(y_test.shape)"
      ],
      "execution_count": 11,
      "outputs": [
        {
          "output_type": "stream",
          "text": [
            "(1437, 64)\n",
            "(360, 64)\n",
            "(1437,)\n",
            "(360,)\n"
          ],
          "name": "stdout"
        }
      ]
    },
    {
      "cell_type": "markdown",
      "metadata": {
        "id": "u28yZPZkEff8",
        "colab_type": "text"
      },
      "source": [
        "#### Now we want to implement a feed-forward neural network through the ```MLPClassifier```. When implmenting a Neural Network there are multiple ```hyperparameters```that need to be tuned in order to find the best configuration for our Neural Network. \n",
        "\n",
        "#### To this end use ```sklearn.model_selection.GridSearchCV```.\n",
        "- Values for the grid search:\n",
        "    - solvers: 'sgd','lbfgs', 'adam'\n",
        "    - activation functions: 'logistic', 'tanh', 'relu'\n",
        "    - values for alpha: 0.1   , 0.01  , 0.001 , 0.0001\n",
        "    - hidden layer sizes: np.arange(12, 18)"
      ]
    },
    {
      "cell_type": "code",
      "metadata": {
        "id": "4OHBtj06Eff9",
        "colab_type": "code",
        "colab": {}
      },
      "source": [
        "from sklearn.model_selection import GridSearchCV\n",
        "from sklearn import neural_network\n",
        "\n",
        "# Look https://scikit-learn.org/stable/modules/generated/sklearn.neural_network.MLPClassifier.html for MLPClassifier doc\n",
        "\n",
        "from sklearn.neural_network import MLPClassifier\n",
        "\n",
        "parameters = {'solver': ['sgd','lbfgs', 'adam'], \n",
        "              'activation': ['logistic', 'tanh', 'relu'],\n",
        "              'alpha': [0.1, 0.01, 0.001, 0.0001],\n",
        "              \"hidden_layer_sizes\": np.arange(12, 18) \n",
        "             }\n",
        "clf_grid = GridSearchCV(MLPClassifier(max_iter=500), parameters, n_jobs=-1)"
      ],
      "execution_count": 0,
      "outputs": []
    },
    {
      "cell_type": "code",
      "metadata": {
        "id": "9kZZJOlHEff-",
        "colab_type": "code",
        "colab": {
          "base_uri": "https://localhost:8080/",
          "height": 190
        },
        "outputId": "61bd35fb-2e03-4e8d-9b3c-c80513a21295"
      },
      "source": [
        "import datetime\n",
        "a = datetime.datetime.now()\n",
        "clf_grid.fit(x,y)\n",
        "b = datetime.datetime.now()\n",
        "c =b - a\n",
        "print('Time to train: %.2f seconds ' % c.seconds)\n",
        "\n",
        "\n",
        "\n",
        "print(\"-----------------Best Model--------------------\")\n",
        "\n",
        "\n",
        "print(\"Best score: \", clf_grid.best_score_)  #######################################\n",
        "print(\"Using the following parameters:\")\n",
        "print(clf_grid.best_params_)       ########################################"
      ],
      "execution_count": 18,
      "outputs": [
        {
          "output_type": "stream",
          "text": [
            "/usr/local/lib/python3.6/dist-packages/sklearn/model_selection/_split.py:1978: FutureWarning: The default value of cv will change from 3 to 5 in version 0.22. Specify it explicitly to silence this warning.\n",
            "  warnings.warn(CV_WARNING, FutureWarning)\n",
            "/usr/local/lib/python3.6/dist-packages/sklearn/model_selection/_search.py:814: DeprecationWarning: The default of the `iid` parameter will change from True to False in version 0.22 and will be removed in 0.24. This will change numeric results when test-set sizes are unequal.\n",
            "  DeprecationWarning)\n"
          ],
          "name": "stderr"
        },
        {
          "output_type": "stream",
          "text": [
            "Time to train: 787.00 seconds \n",
            "-----------------Best Model--------------------\n",
            "Best score:  0.9415692821368948\n",
            "Using the following parameters:\n",
            "{'activation': 'logistic', 'alpha': 0.1, 'hidden_layer_sizes': 16, 'solver': 'lbfgs'}\n"
          ],
          "name": "stdout"
        }
      ]
    },
    {
      "cell_type": "markdown",
      "metadata": {
        "id": "45QsyMKwEfgB",
        "colab_type": "text"
      },
      "source": [
        "### Fitting classifier with best parameters"
      ]
    },
    {
      "cell_type": "code",
      "metadata": {
        "id": "MIet2MBfEfgB",
        "colab_type": "code",
        "colab": {}
      },
      "source": [
        "from sklearn.neural_network import MLPClassifier\n",
        "\n",
        "### Create an instance of the the MLPClassifier with the best parameters found with gridSearch\n",
        "mlp = MLPClassifier(activation = \"logistic\", alpha= 0.1, hidden_layer_sizes = 16, solver = \"lbfgs\", max_iter=500)"
      ],
      "execution_count": 0,
      "outputs": []
    },
    {
      "cell_type": "code",
      "metadata": {
        "id": "HtfANdiVEfgD",
        "colab_type": "code",
        "colab": {
          "base_uri": "https://localhost:8080/",
          "height": 136
        },
        "outputId": "c76c6806-22e7-4fc8-cf80-13631037ec60"
      },
      "source": [
        "## Fit the model\n",
        "mlp.fit(x,y)"
      ],
      "execution_count": 20,
      "outputs": [
        {
          "output_type": "execute_result",
          "data": {
            "text/plain": [
              "MLPClassifier(activation='logistic', alpha=0.1, batch_size='auto', beta_1=0.9,\n",
              "              beta_2=0.999, early_stopping=False, epsilon=1e-08,\n",
              "              hidden_layer_sizes=16, learning_rate='constant',\n",
              "              learning_rate_init=0.001, max_iter=500, momentum=0.9,\n",
              "              n_iter_no_change=10, nesterovs_momentum=True, power_t=0.5,\n",
              "              random_state=None, shuffle=True, solver='lbfgs', tol=0.0001,\n",
              "              validation_fraction=0.1, verbose=False, warm_start=False)"
            ]
          },
          "metadata": {
            "tags": []
          },
          "execution_count": 20
        }
      ]
    },
    {
      "cell_type": "markdown",
      "metadata": {
        "id": "C4ptBpe4EfgF",
        "colab_type": "text"
      },
      "source": [
        "We obtained a warning sayng that the optimization algorithm was not able to converge. How can we solve this problem?"
      ]
    },
    {
      "cell_type": "code",
      "metadata": {
        "id": "UkZnWKlDEfgF",
        "colab_type": "code",
        "colab": {}
      },
      "source": [
        "# PUT YOUR CODE HERE\n"
      ],
      "execution_count": 0,
      "outputs": []
    },
    {
      "cell_type": "code",
      "metadata": {
        "id": "lkTXFHnVEfgH",
        "colab_type": "code",
        "colab": {
          "base_uri": "https://localhost:8080/",
          "height": 136
        },
        "outputId": "704f32f9-6f9c-490a-c03f-81e59064f7f3"
      },
      "source": [
        "mlp.fit(X_train,y_train)"
      ],
      "execution_count": 21,
      "outputs": [
        {
          "output_type": "execute_result",
          "data": {
            "text/plain": [
              "MLPClassifier(activation='logistic', alpha=0.1, batch_size='auto', beta_1=0.9,\n",
              "              beta_2=0.999, early_stopping=False, epsilon=1e-08,\n",
              "              hidden_layer_sizes=16, learning_rate='constant',\n",
              "              learning_rate_init=0.001, max_iter=500, momentum=0.9,\n",
              "              n_iter_no_change=10, nesterovs_momentum=True, power_t=0.5,\n",
              "              random_state=None, shuffle=True, solver='lbfgs', tol=0.0001,\n",
              "              validation_fraction=0.1, verbose=False, warm_start=False)"
            ]
          },
          "metadata": {
            "tags": []
          },
          "execution_count": 21
        }
      ]
    },
    {
      "cell_type": "markdown",
      "metadata": {
        "id": "IL1vrrzNEfgJ",
        "colab_type": "text"
      },
      "source": [
        "### Compute prediction"
      ]
    },
    {
      "cell_type": "code",
      "metadata": {
        "id": "qNnABftCEfgJ",
        "colab_type": "code",
        "colab": {
          "base_uri": "https://localhost:8080/",
          "height": 306
        },
        "outputId": "f5005eb3-cbd6-435a-fa71-4f47954e6031"
      },
      "source": [
        "predictions = mlp.predict(X_test)\n",
        "predictions"
      ],
      "execution_count": 22,
      "outputs": [
        {
          "output_type": "execute_result",
          "data": {
            "text/plain": [
              "array([2, 8, 2, 6, 6, 7, 1, 9, 8, 5, 2, 8, 6, 6, 6, 6, 1, 0, 5, 8, 8, 7,\n",
              "       8, 4, 7, 5, 4, 9, 2, 9, 4, 7, 6, 8, 9, 4, 3, 1, 0, 1, 8, 6, 7, 7,\n",
              "       1, 0, 7, 6, 2, 1, 9, 6, 7, 9, 0, 0, 5, 1, 6, 3, 0, 2, 3, 4, 1, 9,\n",
              "       2, 6, 9, 1, 8, 3, 5, 1, 2, 8, 2, 1, 9, 7, 2, 3, 6, 0, 9, 3, 7, 5,\n",
              "       1, 2, 9, 9, 3, 1, 7, 7, 4, 8, 5, 1, 5, 5, 2, 5, 9, 0, 7, 2, 4, 7,\n",
              "       3, 4, 8, 9, 7, 9, 8, 0, 1, 5, 2, 5, 1, 4, 1, 4, 0, 6, 1, 5, 3, 9,\n",
              "       9, 5, 9, 9, 5, 7, 5, 6, 2, 8, 6, 9, 6, 1, 5, 1, 5, 9, 9, 1, 5, 3,\n",
              "       6, 1, 8, 9, 8, 7, 6, 7, 6, 5, 6, 0, 8, 8, 9, 8, 6, 1, 0, 4, 1, 6,\n",
              "       3, 8, 6, 7, 4, 9, 6, 3, 0, 3, 3, 3, 0, 7, 7, 5, 7, 8, 0, 7, 1, 9,\n",
              "       6, 4, 5, 0, 1, 4, 6, 4, 3, 3, 0, 9, 5, 1, 2, 0, 4, 2, 1, 6, 8, 9,\n",
              "       2, 4, 9, 3, 7, 6, 2, 3, 3, 1, 6, 9, 3, 6, 3, 9, 2, 0, 7, 6, 1, 1,\n",
              "       9, 7, 2, 7, 8, 5, 5, 7, 5, 2, 3, 7, 2, 7, 5, 5, 7, 0, 9, 1, 6, 5,\n",
              "       9, 7, 4, 3, 8, 0, 3, 6, 4, 6, 3, 2, 6, 8, 8, 8, 4, 6, 7, 5, 2, 4,\n",
              "       5, 3, 2, 4, 6, 9, 4, 5, 4, 3, 4, 6, 2, 9, 0, 8, 7, 2, 0, 1, 6, 0,\n",
              "       4, 2, 0, 7, 9, 8, 5, 7, 8, 2, 8, 4, 3, 7, 2, 6, 9, 9, 5, 1, 0, 8,\n",
              "       2, 8, 9, 5, 6, 2, 2, 7, 2, 1, 5, 1, 6, 4, 5, 0, 9, 4, 1, 1, 7, 0,\n",
              "       8, 9, 0, 5, 4, 3, 8, 8])"
            ]
          },
          "metadata": {
            "tags": []
          },
          "execution_count": 22
        }
      ]
    },
    {
      "cell_type": "markdown",
      "metadata": {
        "id": "JZ6hm1U0EfgL",
        "colab_type": "text"
      },
      "source": [
        "### Evaluate the performance of the model computing the classification report and the accuracy score for training and test"
      ]
    },
    {
      "cell_type": "code",
      "metadata": {
        "id": "RsbTo_ACNnIo",
        "colab_type": "code",
        "colab": {
          "base_uri": "https://localhost:8080/",
          "height": 306
        },
        "outputId": "7e98884f-3915-41f4-d6c4-446c9f294746"
      },
      "source": [
        "from sklearn.metrics import classification_report\n",
        "\n",
        "print(classification_report(y_test, predictions))"
      ],
      "execution_count": 23,
      "outputs": [
        {
          "output_type": "stream",
          "text": [
            "              precision    recall  f1-score   support\n",
            "\n",
            "           0       0.93      1.00      0.96        27\n",
            "           1       0.79      0.86      0.82        35\n",
            "           2       0.94      0.92      0.93        36\n",
            "           3       0.97      1.00      0.98        29\n",
            "           4       0.97      0.97      0.97        30\n",
            "           5       1.00      0.95      0.97        40\n",
            "           6       1.00      0.98      0.99        44\n",
            "           7       0.97      0.97      0.97        39\n",
            "           8       0.94      0.87      0.91        39\n",
            "           9       0.90      0.93      0.92        41\n",
            "\n",
            "    accuracy                           0.94       360\n",
            "   macro avg       0.94      0.94      0.94       360\n",
            "weighted avg       0.94      0.94      0.94       360\n",
            "\n"
          ],
          "name": "stdout"
        }
      ]
    },
    {
      "cell_type": "markdown",
      "metadata": {
        "id": "7HV2qLujEfgN",
        "colab_type": "text"
      },
      "source": [
        "##### Note that in this case we did not need to normliaze data since all the features are in the same scale"
      ]
    },
    {
      "cell_type": "code",
      "metadata": {
        "id": "7dCUuV94OAy-",
        "colab_type": "code",
        "colab": {
          "base_uri": "https://localhost:8080/",
          "height": 34
        },
        "outputId": "67853ab8-8cc7-4112-f201-2754512c114d"
      },
      "source": [
        "predictions_train = mlp.predict(X_train)\n",
        "predictions_train"
      ],
      "execution_count": 26,
      "outputs": [
        {
          "output_type": "execute_result",
          "data": {
            "text/plain": [
              "array([6, 5, 3, ..., 7, 7, 8])"
            ]
          },
          "metadata": {
            "tags": []
          },
          "execution_count": 26
        }
      ]
    },
    {
      "cell_type": "code",
      "metadata": {
        "id": "HFOTxH3SEfgN",
        "colab_type": "code",
        "colab": {
          "base_uri": "https://localhost:8080/",
          "height": 51
        },
        "outputId": "3ec64829-e1d2-4dae-806e-e41a983af464"
      },
      "source": [
        "from sklearn.metrics import accuracy_score\n",
        "print(\"Accuracy on training set: \", round(accuracy_score(y_train, predictions_train),3))\n",
        "print(\"Accuracy on test set: \", round(accuracy_score(y_test, predictions),3))"
      ],
      "execution_count": 27,
      "outputs": [
        {
          "output_type": "stream",
          "text": [
            "Accuracy on training set:  1.0\n",
            "Accuracy on test set:  0.942\n"
          ],
          "name": "stdout"
        }
      ]
    },
    {
      "cell_type": "code",
      "metadata": {
        "id": "n36CFwCoEfgP",
        "colab_type": "code",
        "colab": {}
      },
      "source": [
        ""
      ],
      "execution_count": 0,
      "outputs": []
    }
  ]
}